{
  "nbformat": 4,
  "nbformat_minor": 0,
  "metadata": {
    "colab": {
      "name": "Understanding to create hidden and output layers.ipynb",
      "provenance": []
    },
    "kernelspec": {
      "name": "python3",
      "display_name": "Python 3"
    }
  },
  "cells": [
    {
      "cell_type": "markdown",
      "metadata": {
        "id": "61J96XN9-7TG",
        "colab_type": "text"
      },
      "source": [
        ""
      ]
    },
    {
      "cell_type": "code",
      "metadata": {
        "id": "egMpGcg1vQwV",
        "colab_type": "code",
        "colab": {}
      },
      "source": [
        "import tensorflow as tf\n"
      ],
      "execution_count": 1,
      "outputs": []
    },
    {
      "cell_type": "code",
      "metadata": {
        "id": "Wu59CjbcveaO",
        "colab_type": "code",
        "colab": {
          "base_uri": "https://localhost:8080/",
          "height": 34
        },
        "outputId": "a45db116-a0a7-44e1-820e-84aff39eee0c"
      },
      "source": [
        "print(tf.__version__)"
      ],
      "execution_count": 2,
      "outputs": [
        {
          "output_type": "stream",
          "text": [
            "2.2.0\n"
          ],
          "name": "stdout"
        }
      ]
    },
    {
      "cell_type": "code",
      "metadata": {
        "id": "G0CLdmdJv3B_",
        "colab_type": "code",
        "colab": {}
      },
      "source": [
        "from tensorflow.keras import Sequential"
      ],
      "execution_count": 3,
      "outputs": []
    },
    {
      "cell_type": "code",
      "metadata": {
        "id": "DqyRukMwxH55",
        "colab_type": "code",
        "colab": {}
      },
      "source": [
        "from tensorflow.keras.layers import Dense"
      ],
      "execution_count": 4,
      "outputs": []
    },
    {
      "cell_type": "code",
      "metadata": {
        "id": "fecQZ28pxRHq",
        "colab_type": "code",
        "colab": {}
      },
      "source": [
        "from tensorflow.keras.optimizers import SGD"
      ],
      "execution_count": 5,
      "outputs": []
    },
    {
      "cell_type": "code",
      "metadata": {
        "id": "Yb7PZeoKxXBk",
        "colab_type": "code",
        "colab": {}
      },
      "source": [
        "from sklearn import datasets"
      ],
      "execution_count": 6,
      "outputs": []
    },
    {
      "cell_type": "code",
      "metadata": {
        "id": "DKzkI2mVxjFp",
        "colab_type": "code",
        "colab": {}
      },
      "source": [
        "x,y=datasets.make_moons(n_samples=1000)"
      ],
      "execution_count": 7,
      "outputs": []
    },
    {
      "cell_type": "code",
      "metadata": {
        "id": "QOdxj6Q5xpgW",
        "colab_type": "code",
        "colab": {
          "base_uri": "https://localhost:8080/",
          "height": 34
        },
        "outputId": "5ea11b3f-90a4-4112-d6c9-66356659e437"
      },
      "source": [
        "print(x.shape)"
      ],
      "execution_count": 8,
      "outputs": [
        {
          "output_type": "stream",
          "text": [
            "(1000, 2)\n"
          ],
          "name": "stdout"
        }
      ]
    },
    {
      "cell_type": "code",
      "metadata": {
        "id": "djQprq9Rxrz5",
        "colab_type": "code",
        "colab": {
          "base_uri": "https://localhost:8080/",
          "height": 34
        },
        "outputId": "0db2029c-c1e9-4053-e36e-066a27141ed5"
      },
      "source": [
        "print(type(x))"
      ],
      "execution_count": 9,
      "outputs": [
        {
          "output_type": "stream",
          "text": [
            "<class 'numpy.ndarray'>\n"
          ],
          "name": "stdout"
        }
      ]
    },
    {
      "cell_type": "code",
      "metadata": {
        "id": "wao4cyO_xzsM",
        "colab_type": "code",
        "colab": {
          "base_uri": "https://localhost:8080/",
          "height": 34
        },
        "outputId": "8bc70ddb-0539-4fe8-a95e-2a389e67233d"
      },
      "source": [
        "print(y.shape)"
      ],
      "execution_count": 10,
      "outputs": [
        {
          "output_type": "stream",
          "text": [
            "(1000,)\n"
          ],
          "name": "stdout"
        }
      ]
    },
    {
      "cell_type": "code",
      "metadata": {
        "id": "e2s04Fb1x1TR",
        "colab_type": "code",
        "colab": {
          "base_uri": "https://localhost:8080/",
          "height": 487
        },
        "outputId": "28a5da45-de6f-46e0-dc22-62cd2b58e86c"
      },
      "source": [
        "print(y)"
      ],
      "execution_count": 11,
      "outputs": [
        {
          "output_type": "stream",
          "text": [
            "[0 1 0 1 1 1 0 1 0 0 1 0 0 1 0 1 0 0 0 1 1 1 1 0 1 0 0 1 0 0 1 1 0 1 0 0 0\n",
            " 1 1 1 0 1 1 0 1 1 1 1 0 0 1 0 1 0 1 0 0 0 0 0 1 1 1 0 1 1 1 1 0 0 0 0 0 1\n",
            " 1 0 1 0 0 0 0 1 0 1 0 0 1 1 0 1 0 0 1 1 1 0 0 1 1 0 0 1 0 1 1 1 1 1 0 0 1\n",
            " 1 0 0 1 0 1 1 1 1 0 0 0 1 0 0 0 1 0 1 1 0 0 0 1 0 0 1 0 1 0 0 1 0 1 0 0 1\n",
            " 1 1 1 1 1 0 0 0 0 1 1 1 1 0 1 1 1 1 0 0 1 0 0 0 1 0 1 1 0 1 0 1 0 1 0 0 1\n",
            " 1 1 0 0 0 0 0 0 0 1 1 0 0 1 0 0 1 1 1 1 0 0 1 1 1 1 0 0 0 1 0 1 1 1 1 0 0\n",
            " 1 1 1 0 1 0 1 1 1 0 0 1 0 1 1 1 0 1 0 1 1 1 0 0 1 1 1 0 1 0 0 1 0 1 1 0 1\n",
            " 1 0 1 0 0 1 1 0 1 1 0 0 1 0 0 1 0 1 1 1 0 1 1 1 1 0 1 1 1 0 1 0 0 1 0 0 0\n",
            " 1 0 1 0 0 0 0 0 1 1 0 1 0 0 1 1 0 0 0 1 1 1 1 1 0 1 0 0 0 0 0 1 1 1 1 0 1\n",
            " 0 1 1 0 1 0 0 0 1 1 0 1 1 0 1 1 1 1 1 1 1 0 0 1 0 0 1 1 1 1 1 1 0 0 0 1 1\n",
            " 0 1 0 1 1 0 0 1 1 0 0 0 1 0 0 0 0 0 1 1 1 1 0 1 0 0 0 1 1 0 1 1 1 0 1 0 1\n",
            " 0 1 0 1 1 0 0 1 1 1 0 1 0 0 0 1 0 0 0 0 1 1 0 0 1 0 0 1 1 1 1 1 1 0 1 1 0\n",
            " 0 1 0 0 0 0 0 0 0 0 1 0 1 1 1 1 1 0 0 1 0 0 1 0 0 0 0 1 1 0 0 0 1 0 0 0 0\n",
            " 1 0 0 0 0 0 1 1 0 1 1 0 0 1 0 0 0 1 1 1 1 0 1 1 1 1 1 1 0 1 0 1 1 0 0 0 1\n",
            " 0 0 0 0 1 1 0 0 0 1 0 1 0 1 1 0 1 1 0 1 0 0 1 0 1 1 1 0 1 1 0 0 1 0 1 1 0\n",
            " 1 0 0 0 1 0 0 1 1 0 0 0 0 1 1 1 0 0 1 0 0 1 0 0 0 0 1 0 0 0 0 1 1 0 1 0 1\n",
            " 1 1 1 1 1 0 1 0 1 1 0 0 1 1 0 1 0 0 0 0 0 0 0 1 0 1 1 1 0 0 1 0 1 1 0 0 0\n",
            " 0 1 0 1 0 0 1 1 1 0 0 1 0 0 1 0 1 1 1 1 0 0 0 0 0 0 1 0 1 1 0 1 0 0 0 1 1\n",
            " 1 1 0 0 1 1 0 0 0 1 1 0 0 0 1 1 1 0 1 1 0 1 1 1 0 1 0 1 1 0 0 1 1 1 1 0 0\n",
            " 0 1 0 1 0 0 0 0 1 1 0 1 0 1 0 0 0 0 1 1 0 1 0 1 0 0 1 0 0 0 1 1 1 0 0 1 1\n",
            " 1 1 0 0 1 1 1 1 1 0 1 0 1 0 1 1 0 1 0 0 0 1 0 0 1 0 0 1 0 1 0 0 1 0 1 1 0\n",
            " 1 0 0 1 1 0 0 0 1 0 0 0 0 1 0 1 1 1 0 0 0 0 1 1 1 1 1 1 0 0 0 0 1 0 0 0 0\n",
            " 1 1 0 0 1 1 0 1 0 0 0 0 0 0 1 0 1 0 1 1 1 1 1 1 0 0 0 1 1 0 1 1 0 1 0 1 1\n",
            " 1 1 0 1 0 0 0 1 1 1 1 0 1 1 0 1 1 1 0 0 0 1 0 1 0 1 1 1 0 1 1 1 1 0 1 0 0\n",
            " 1 0 0 1 0 1 0 1 0 1 0 1 1 0 1 0 1 1 0 0 0 0 0 0 0 0 0 0 1 1 0 1 1 0 0 1 1\n",
            " 0 0 1 1 1 0 0 0 1 1 1 1 1 1 1 1 0 1 1 1 0 1 0 0 0 1 1 0 0 0 0 0 0 1 0 0 1\n",
            " 1 0 1 0 0 1 0 1 0 0 0 1 1 1 0 1 1 1 0 1 1 0 1 0 1 0 1 0 1 0 1 1 0 0 1 0 1\n",
            " 1]\n"
          ],
          "name": "stdout"
        }
      ]
    },
    {
      "cell_type": "code",
      "metadata": {
        "id": "H5wt1PXuyU57",
        "colab_type": "code",
        "colab": {}
      },
      "source": [
        "model=Sequential()"
      ],
      "execution_count": 12,
      "outputs": []
    },
    {
      "cell_type": "code",
      "metadata": {
        "id": "3EcT5MEyzd9A",
        "colab_type": "code",
        "colab": {
          "base_uri": "https://localhost:8080/",
          "height": 1000
        },
        "outputId": "0e73475b-008f-4764-ecdc-34e9cd400a56"
      },
      "source": [
        "#defining first hidden laye dense having 10 neurons and have to define our input dataset\n",
        "#also need to define the shape of our input dataset. As we have 2 features\n",
        "# and define an activation function as relu \n",
        "model.add(Dense(20,input_shape=(2,), activation='relu' ))\n",
        "model.add(Dense(20,activation='relu'))\n",
        "\n",
        "#as our is classification ie. 0 or 1 we take 1 output neuron. We have taken one for sigmid as output is between 0 and 1\n",
        "# if we take neuron 2 we have to use softmax. It is also use for multiclassification problem\n",
        "model.add(Dense(1,activation='sigmoid'))\n",
        "#using optimization SGD with learning rate 0.1\n",
        "# compare loss and check accuracy in 50 epochs, verbose= true means check entire process\n",
        "sgd=SGD(lr=0.1)\n",
        "model.compile(loss='binary_crossentropy',optimizer='sgd',metrics=['accuracy'])\n",
        "model.fit(x,y,epochs=50,verbose=True)\n",
        "# "
      ],
      "execution_count": 13,
      "outputs": [
        {
          "output_type": "stream",
          "text": [
            "Epoch 1/50\n",
            "32/32 [==============================] - 0s 1ms/step - loss: 0.6697 - accuracy: 0.4880\n",
            "Epoch 2/50\n",
            "32/32 [==============================] - 0s 1ms/step - loss: 0.6333 - accuracy: 0.5530\n",
            "Epoch 3/50\n",
            "32/32 [==============================] - 0s 1ms/step - loss: 0.5996 - accuracy: 0.7720\n",
            "Epoch 4/50\n",
            "32/32 [==============================] - 0s 1ms/step - loss: 0.5691 - accuracy: 0.8370\n",
            "Epoch 5/50\n",
            "32/32 [==============================] - 0s 1ms/step - loss: 0.5429 - accuracy: 0.8370\n",
            "Epoch 6/50\n",
            "32/32 [==============================] - 0s 1ms/step - loss: 0.5215 - accuracy: 0.8340\n",
            "Epoch 7/50\n",
            "32/32 [==============================] - 0s 1ms/step - loss: 0.5028 - accuracy: 0.8320\n",
            "Epoch 8/50\n",
            "32/32 [==============================] - 0s 1ms/step - loss: 0.4862 - accuracy: 0.8310\n",
            "Epoch 9/50\n",
            "32/32 [==============================] - 0s 1ms/step - loss: 0.4706 - accuracy: 0.8330\n",
            "Epoch 10/50\n",
            "32/32 [==============================] - 0s 1ms/step - loss: 0.4563 - accuracy: 0.8320\n",
            "Epoch 11/50\n",
            "32/32 [==============================] - 0s 1ms/step - loss: 0.4430 - accuracy: 0.8320\n",
            "Epoch 12/50\n",
            "32/32 [==============================] - 0s 1ms/step - loss: 0.4303 - accuracy: 0.8330\n",
            "Epoch 13/50\n",
            "32/32 [==============================] - 0s 1ms/step - loss: 0.4185 - accuracy: 0.8350\n",
            "Epoch 14/50\n",
            "32/32 [==============================] - 0s 1ms/step - loss: 0.4072 - accuracy: 0.8360\n",
            "Epoch 15/50\n",
            "32/32 [==============================] - 0s 1ms/step - loss: 0.3968 - accuracy: 0.8400\n",
            "Epoch 16/50\n",
            "32/32 [==============================] - 0s 1ms/step - loss: 0.3868 - accuracy: 0.8410\n",
            "Epoch 17/50\n",
            "32/32 [==============================] - 0s 1ms/step - loss: 0.3772 - accuracy: 0.8430\n",
            "Epoch 18/50\n",
            "32/32 [==============================] - 0s 1ms/step - loss: 0.3681 - accuracy: 0.8460\n",
            "Epoch 19/50\n",
            "32/32 [==============================] - 0s 1ms/step - loss: 0.3596 - accuracy: 0.8480\n",
            "Epoch 20/50\n",
            "32/32 [==============================] - 0s 1ms/step - loss: 0.3516 - accuracy: 0.8500\n",
            "Epoch 21/50\n",
            "32/32 [==============================] - 0s 1ms/step - loss: 0.3440 - accuracy: 0.8510\n",
            "Epoch 22/50\n",
            "32/32 [==============================] - 0s 1ms/step - loss: 0.3367 - accuracy: 0.8550\n",
            "Epoch 23/50\n",
            "32/32 [==============================] - 0s 1ms/step - loss: 0.3297 - accuracy: 0.8540\n",
            "Epoch 24/50\n",
            "32/32 [==============================] - 0s 1ms/step - loss: 0.3233 - accuracy: 0.8600\n",
            "Epoch 25/50\n",
            "32/32 [==============================] - 0s 1ms/step - loss: 0.3171 - accuracy: 0.8610\n",
            "Epoch 26/50\n",
            "32/32 [==============================] - 0s 1ms/step - loss: 0.3112 - accuracy: 0.8630\n",
            "Epoch 27/50\n",
            "32/32 [==============================] - 0s 1ms/step - loss: 0.3057 - accuracy: 0.8650\n",
            "Epoch 28/50\n",
            "32/32 [==============================] - 0s 1ms/step - loss: 0.3003 - accuracy: 0.8670\n",
            "Epoch 29/50\n",
            "32/32 [==============================] - 0s 1ms/step - loss: 0.2953 - accuracy: 0.8690\n",
            "Epoch 30/50\n",
            "32/32 [==============================] - 0s 1ms/step - loss: 0.2903 - accuracy: 0.8710\n",
            "Epoch 31/50\n",
            "32/32 [==============================] - 0s 1ms/step - loss: 0.2856 - accuracy: 0.8740\n",
            "Epoch 32/50\n",
            "32/32 [==============================] - 0s 1ms/step - loss: 0.2811 - accuracy: 0.8740\n",
            "Epoch 33/50\n",
            "32/32 [==============================] - 0s 1ms/step - loss: 0.2769 - accuracy: 0.8760\n",
            "Epoch 34/50\n",
            "32/32 [==============================] - 0s 1ms/step - loss: 0.2729 - accuracy: 0.8790\n",
            "Epoch 35/50\n",
            "32/32 [==============================] - 0s 1ms/step - loss: 0.2691 - accuracy: 0.8800\n",
            "Epoch 36/50\n",
            "32/32 [==============================] - 0s 1ms/step - loss: 0.2654 - accuracy: 0.8830\n",
            "Epoch 37/50\n",
            "32/32 [==============================] - 0s 1ms/step - loss: 0.2619 - accuracy: 0.8840\n",
            "Epoch 38/50\n",
            "32/32 [==============================] - 0s 1ms/step - loss: 0.2587 - accuracy: 0.8830\n",
            "Epoch 39/50\n",
            "32/32 [==============================] - 0s 1ms/step - loss: 0.2555 - accuracy: 0.8860\n",
            "Epoch 40/50\n",
            "32/32 [==============================] - 0s 1ms/step - loss: 0.2526 - accuracy: 0.8880\n",
            "Epoch 41/50\n",
            "32/32 [==============================] - 0s 1ms/step - loss: 0.2497 - accuracy: 0.8880\n",
            "Epoch 42/50\n",
            "32/32 [==============================] - 0s 1ms/step - loss: 0.2469 - accuracy: 0.8900\n",
            "Epoch 43/50\n",
            "32/32 [==============================] - 0s 1ms/step - loss: 0.2443 - accuracy: 0.8910\n",
            "Epoch 44/50\n",
            "32/32 [==============================] - 0s 1ms/step - loss: 0.2417 - accuracy: 0.8930\n",
            "Epoch 45/50\n",
            "32/32 [==============================] - 0s 1ms/step - loss: 0.2393 - accuracy: 0.8940\n",
            "Epoch 46/50\n",
            "32/32 [==============================] - 0s 1ms/step - loss: 0.2370 - accuracy: 0.8960\n",
            "Epoch 47/50\n",
            "32/32 [==============================] - 0s 1ms/step - loss: 0.2349 - accuracy: 0.8980\n",
            "Epoch 48/50\n",
            "32/32 [==============================] - 0s 1ms/step - loss: 0.2327 - accuracy: 0.8970\n",
            "Epoch 49/50\n",
            "32/32 [==============================] - 0s 1ms/step - loss: 0.2307 - accuracy: 0.9000\n",
            "Epoch 50/50\n",
            "32/32 [==============================] - 0s 1ms/step - loss: 0.2288 - accuracy: 0.8970\n"
          ],
          "name": "stdout"
        },
        {
          "output_type": "execute_result",
          "data": {
            "text/plain": [
              "<tensorflow.python.keras.callbacks.History at 0x7f54d0bc5c88>"
            ]
          },
          "metadata": {
            "tags": []
          },
          "execution_count": 13
        }
      ]
    },
    {
      "cell_type": "code",
      "metadata": {
        "id": "kgwii5YFzfkj",
        "colab_type": "code",
        "colab": {}
      },
      "source": [
        "# in case we have linearly seperable problem we use svm or logistic regression but if both classes in binary classification is non seperable we use decision tree of random forest\n",
        "# if there is non linear relationship between classes we can use neural networks, decision tree and random forest.\n",
        "# to check linearity we use corellation (corr). it is between 1 and -1 . if corr between two vairable is high we can see there is strong linear relation between them. \n",
        "# i.e we need an algorithm that understand linear relation ship so linear decision boundary we need and linear algorithm"
      ],
      "execution_count": 14,
      "outputs": []
    },
    {
      "cell_type": "code",
      "metadata": {
        "id": "u7cpWNTo2pEw",
        "colab_type": "code",
        "colab": {
          "base_uri": "https://localhost:8080/",
          "height": 252
        },
        "outputId": "1108e3ec-eb79-4d2c-f4fc-9ddd23d2e0c2"
      },
      "source": [
        "!pip install mlxtend"
      ],
      "execution_count": 15,
      "outputs": [
        {
          "output_type": "stream",
          "text": [
            "Requirement already satisfied: mlxtend in /usr/local/lib/python3.6/dist-packages (0.14.0)\n",
            "Requirement already satisfied: scikit-learn>=0.18 in /usr/local/lib/python3.6/dist-packages (from mlxtend) (0.22.2.post1)\n",
            "Requirement already satisfied: numpy>=1.10.4 in /usr/local/lib/python3.6/dist-packages (from mlxtend) (1.18.5)\n",
            "Requirement already satisfied: scipy>=0.17 in /usr/local/lib/python3.6/dist-packages (from mlxtend) (1.4.1)\n",
            "Requirement already satisfied: matplotlib>=1.5.1 in /usr/local/lib/python3.6/dist-packages (from mlxtend) (3.2.1)\n",
            "Requirement already satisfied: pandas>=0.17.1 in /usr/local/lib/python3.6/dist-packages (from mlxtend) (1.0.4)\n",
            "Requirement already satisfied: setuptools in /usr/local/lib/python3.6/dist-packages (from mlxtend) (47.3.1)\n",
            "Requirement already satisfied: joblib>=0.11 in /usr/local/lib/python3.6/dist-packages (from scikit-learn>=0.18->mlxtend) (0.15.1)\n",
            "Requirement already satisfied: pyparsing!=2.0.4,!=2.1.2,!=2.1.6,>=2.0.1 in /usr/local/lib/python3.6/dist-packages (from matplotlib>=1.5.1->mlxtend) (2.4.7)\n",
            "Requirement already satisfied: python-dateutil>=2.1 in /usr/local/lib/python3.6/dist-packages (from matplotlib>=1.5.1->mlxtend) (2.8.1)\n",
            "Requirement already satisfied: kiwisolver>=1.0.1 in /usr/local/lib/python3.6/dist-packages (from matplotlib>=1.5.1->mlxtend) (1.2.0)\n",
            "Requirement already satisfied: cycler>=0.10 in /usr/local/lib/python3.6/dist-packages (from matplotlib>=1.5.1->mlxtend) (0.10.0)\n",
            "Requirement already satisfied: pytz>=2017.2 in /usr/local/lib/python3.6/dist-packages (from pandas>=0.17.1->mlxtend) (2018.9)\n",
            "Requirement already satisfied: six>=1.5 in /usr/local/lib/python3.6/dist-packages (from python-dateutil>=2.1->matplotlib>=1.5.1->mlxtend) (1.12.0)\n"
          ],
          "name": "stdout"
        }
      ]
    },
    {
      "cell_type": "code",
      "metadata": {
        "id": "Qoi02hUf2u8R",
        "colab_type": "code",
        "colab": {}
      },
      "source": [
        "# to plot decision boundary"
      ],
      "execution_count": 16,
      "outputs": []
    },
    {
      "cell_type": "code",
      "metadata": {
        "id": "OULZtxTz2x9j",
        "colab_type": "code",
        "colab": {}
      },
      "source": [
        "from mlxtend.plotting import plot_decision_regions"
      ],
      "execution_count": 17,
      "outputs": []
    },
    {
      "cell_type": "code",
      "metadata": {
        "id": "oQIXhAAy26Ky",
        "colab_type": "code",
        "colab": {
          "base_uri": "https://localhost:8080/",
          "height": 335
        },
        "outputId": "0f62095a-eb44-422b-fee5-e4abdae9f038"
      },
      "source": [
        "plot_decision_regions(x,y,model)"
      ],
      "execution_count": 18,
      "outputs": [
        {
          "output_type": "stream",
          "text": [
            "/usr/local/lib/python3.6/dist-packages/mlxtend/plotting/decision_regions.py:244: MatplotlibDeprecationWarning: Passing unsupported keyword arguments to axis() will raise a TypeError in 3.3.\n",
            "  ax.axis(xmin=xx.min(), xmax=xx.max(), y_min=yy.min(), y_max=yy.max())\n"
          ],
          "name": "stderr"
        },
        {
          "output_type": "execute_result",
          "data": {
            "text/plain": [
              "<matplotlib.axes._subplots.AxesSubplot at 0x7f54cc3b44a8>"
            ]
          },
          "metadata": {
            "tags": []
          },
          "execution_count": 18
        },
        {
          "output_type": "display_data",
          "data": {
            "image/png": "[encoded data removed]",
            "text/plain": [
              "<Figure size 432x288 with 1 Axes>"
            ]
          },
          "metadata": {
            "tags": [],
            "needs_background": "light"
          }
        }
      ]
    },
    {
      "cell_type": "code",
      "metadata": {
        "id": "xPxyYy6n2-ts",
        "colab_type": "code",
        "colab": {}
      },
      "source": [
        ""
      ],
      "execution_count": 18,
      "outputs": []
    }
  ]
}